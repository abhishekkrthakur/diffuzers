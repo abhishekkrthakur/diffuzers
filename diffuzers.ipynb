{
 "cells": [
  {
   "cell_type": "code",
   "execution_count": null,
   "metadata": {},
   "outputs": [],
   "source": [
    "!pip install diffuzers -qqqq"
   ]
  },
  {
   "cell_type": "code",
   "execution_count": null,
   "metadata": {},
   "outputs": [],
   "source": [
    "!diffuzers app --port 10000 --ngrok_key YOUR_NGROK_AUTHTOKEN --share"
   ]
  }
 ],
 "metadata": {
  "kernelspec": {
   "display_name": "ml",
   "language": "python",
   "name": "python3"
  },
  "language_info": {
   "name": "python",
   "version": "3.8.13 (default, Mar 28 2022, 11:38:47) \n[GCC 7.5.0]"
  },
  "orig_nbformat": 4,
  "vscode": {
   "interpreter": {
    "hash": "a6cdb91f3f78c48bad72cb110b9a247c2b670f553f33c17c34bce0072b5c1357"
   }
  }
 },
 "nbformat": 4,
 "nbformat_minor": 2
}
